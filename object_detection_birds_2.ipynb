{
 "cells": [
  {
   "cell_type": "markdown",
   "metadata": {},
   "source": [
    "# Train the model\n",
    "## Step 0: Set training constant"
   ]
  },
  {
   "cell_type": "code",
   "execution_count": 1,
   "metadata": {},
   "outputs": [
    {
     "name": "stdout",
     "output_type": "stream",
     "text": [
      "arn:aws:iam::966911974471:role/service-role/AmazonSageMaker-ExecutionRole-20200922T113651\n"
     ]
    }
   ],
   "source": [
    "import sagemaker\n",
    "import conf\n",
    "\n",
    "from sagemaker import get_execution_role\n",
    "\n",
    "\n",
    "role = get_execution_role()\n",
    "print(role)\n"
   ]
  },
  {
   "cell_type": "code",
   "execution_count": 2,
   "metadata": {},
   "outputs": [],
   "source": [
    "train_channel = conf.prefix + '/train'\n",
    "validation_channel = conf.prefix + '/validation'\n",
    "s3_train_data = 's3://{}/{}'.format(conf.bucket, train_channel)\n",
    "s3_validation_data = 's3://{}/{}'.format(conf.bucket, validation_channel)"
   ]
  },
  {
   "cell_type": "markdown",
   "metadata": {},
   "source": [
    "Next we define an output location in S3, where the model artifacts will be placed on completion of the training. These artifacts are the output of the algorithm's traning job.  We also get the URI to the Amazon SageMaker Object Detection docker image.  This ensures the estimator uses the correct algorithm from the current region."
   ]
  },
  {
   "cell_type": "code",
   "execution_count": 3,
   "metadata": {},
   "outputs": [],
   "source": [
    "s3_output_location = 's3://{}/{}/output'.format(conf.bucket, conf.prefix)"
   ]
  },
  {
   "cell_type": "markdown",
   "metadata": {},
   "source": [
    "## Step 1: Define training hyperparameters"
   ]
  },
  {
   "cell_type": "code",
   "execution_count": 4,
   "metadata": {},
   "outputs": [
    {
     "name": "stdout",
     "output_type": "stream",
     "text": [
      "811284229777.dkr.ecr.us-east-1.amazonaws.com/object-detection:1\n"
     ]
    }
   ],
   "source": [
    "#from sagemaker.amazon.amazon_estimator import get_image_uri\n",
    "from sagemaker import image_uris\n",
    "sess = sagemaker.Session()\n",
    "#training_image = get_image_uri(sess.boto_region_name, 'object-detection', repo_version='latest')\n",
    "region=sess.boto_region_name\n",
    "training_image = image_uris.retrieve('object-detection',region)\n",
    "print (training_image)"
   ]
  },
  {
   "cell_type": "code",
   "execution_count": 5,
   "metadata": {},
   "outputs": [],
   "source": [
    "\n",
    "od_model = sagemaker.estimator.Estimator(training_image,\n",
    "                                         role, \n",
    "                                         instance_count=1, \n",
    "                                         instance_type='ml.p3.16xlarge',\n",
    "                                         volume_size = 50,\n",
    "                                         max_run = 360000,\n",
    "                                         input_mode= 'File',\n",
    "                                         output_path=s3_output_location,\n",
    "                                         sagemaker_session=sess)\n"
   ]
  },
  {
   "cell_type": "code",
   "execution_count": 6,
   "metadata": {},
   "outputs": [],
   "source": [
    "def set_hyperparameters(num_epochs, lr_steps, num_classes, train_df):\n",
    "\n",
    "    num_training_samples = train_df\n",
    "    print('num epochs: {}, num classes: {}, num training images: {}'.format(num_epochs, num_classes, num_training_samples))\n",
    "\n",
    "    od_model.set_hyperparameters(base_network='resnet-50',\n",
    "                                 use_pretrained_model=1,\n",
    "                                 num_classes=num_classes,\n",
    "                                 mini_batch_size=16,\n",
    "                                 epochs=num_epochs,               \n",
    "                                 learning_rate=0.001, \n",
    "                                 lr_scheduler_step=lr_steps,      \n",
    "                                 lr_scheduler_factor=0.1,\n",
    "                                 optimizer='sgd',\n",
    "                                 momentum=0.9,\n",
    "                                 weight_decay=0.0005,\n",
    "                                 overlap_threshold=0.5,\n",
    "                                 nms_threshold=0.45,\n",
    "                                 image_shape=512,\n",
    "                                 label_width=350,\n",
    "                                 num_training_samples=num_training_samples)\n",
    "    \n",
    "    \n",
    "    "
   ]
  },
  {
   "cell_type": "code",
   "execution_count": 7,
   "metadata": {},
   "outputs": [
    {
     "name": "stdout",
     "output_type": "stream",
     "text": [
      "num epochs: 10, num classes: 1, num training images: 9430\n"
     ]
    }
   ],
   "source": [
    "set_hyperparameters(conf.num_epochs, '33,67',conf.num_classes, conf.train_df)"
   ]
  },
  {
   "cell_type": "markdown",
   "metadata": {},
   "source": [
    "Now that the hyperparameters are setup, we define the data channels to be passed to the algorithm. To do this, we need to create the `sagemaker.session.s3_input` objects from our data channels. These objects are then put in a simple dictionary, which the algorithm consumes.  Note that you could add a third channel named `model` to perform incremental training (continue training from where you had left off with a prior model)."
   ]
  },
  {
   "cell_type": "code",
   "execution_count": 8,
   "metadata": {},
   "outputs": [],
   "source": [
    "train_data = sagemaker.inputs.TrainingInput(s3_train_data, distribution='FullyReplicated', \n",
    "                        content_type='application/x-recordio', s3_data_type='S3Prefix')\n",
    "validation_data = sagemaker.inputs.TrainingInput(s3_validation_data, distribution='FullyReplicated', \n",
    "                             content_type='application/x-recordio', s3_data_type='S3Prefix')\n",
    "data_channels = {'train': train_data, 'validation': validation_data}"
   ]
  },
  {
   "cell_type": "markdown",
   "metadata": {},
   "source": [
    "## Step 2: Submit training job"
   ]
  },
  {
   "cell_type": "code",
   "execution_count": 9,
   "metadata": {},
   "outputs": [
    {
     "name": "stdout",
     "output_type": "stream",
     "text": [
      "2020-11-26 07:27:11 Starting - Starting the training job...\n",
      "2020-11-26 07:27:13 Starting - Launching requested ML instances.........\n",
      "2020-11-26 07:28:57 Starting - Preparing the instances for training......\n",
      "2020-11-26 07:30:09 Downloading - Downloading input data...\n",
      "2020-11-26 07:30:25 Training - Downloading the training image......\n",
      "2020-11-26 07:31:28 Training - Training image download completed. Training in progress.\u001b[34mDocker entrypoint called with argument(s): train\u001b[0m\n",
      "\u001b[34m[11/26/2020 07:31:30 INFO 140004883121984] Reading default configuration from /opt/amazon/lib/python2.7/site-packages/algorithm/default-input.json: {u'label_width': u'350', u'early_stopping_min_epochs': u'10', u'epochs': u'30', u'overlap_threshold': u'0.5', u'lr_scheduler_factor': u'0.1', u'_num_kv_servers': u'auto', u'weight_decay': u'0.0005', u'mini_batch_size': u'32', u'use_pretrained_model': u'0', u'freeze_layer_pattern': u'', u'lr_scheduler_step': u'', u'early_stopping': u'False', u'early_stopping_patience': u'5', u'momentum': u'0.9', u'num_training_samples': u'', u'optimizer': u'sgd', u'_tuning_objective_metric': u'', u'early_stopping_tolerance': u'0.0', u'learning_rate': u'0.001', u'kv_store': u'device', u'nms_threshold': u'0.45', u'num_classes': u'', u'base_network': u'vgg-16', u'nms_topk': u'400', u'_kvstore': u'device', u'image_shape': u'300'}\u001b[0m\n",
      "\u001b[34m[11/26/2020 07:31:30 INFO 140004883121984] Merging with provided configuration from /opt/ml/input/config/hyperparameters.json: {u'learning_rate': u'0.001', u'epochs': u'10', u'nms_threshold': u'0.45', u'optimizer': u'sgd', u'base_network': u'resnet-50', u'image_shape': u'512', u'label_width': u'350', u'lr_scheduler_step': u'33,67', u'momentum': u'0.9', u'overlap_threshold': u'0.5', u'num_training_samples': u'9430', u'mini_batch_size': u'16', u'weight_decay': u'0.0005', u'use_pretrained_model': u'1', u'num_classes': u'1', u'lr_scheduler_factor': u'0.1'}\u001b[0m\n",
      "\u001b[34m[11/26/2020 07:31:30 INFO 140004883121984] Final configuration: {u'label_width': u'350', u'early_stopping_min_epochs': u'10', u'epochs': u'10', u'overlap_threshold': u'0.5', u'lr_scheduler_factor': u'0.1', u'_num_kv_servers': u'auto', u'weight_decay': u'0.0005', u'mini_batch_size': u'16', u'use_pretrained_model': u'1', u'freeze_layer_pattern': u'', u'lr_scheduler_step': u'33,67', u'early_stopping': u'False', u'early_stopping_patience': u'5', u'momentum': u'0.9', u'num_training_samples': u'9430', u'optimizer': u'sgd', u'_tuning_objective_metric': u'', u'early_stopping_tolerance': u'0.0', u'learning_rate': u'0.001', u'kv_store': u'device', u'nms_threshold': u'0.45', u'num_classes': u'1', u'base_network': u'resnet-50', u'nms_topk': u'400', u'_kvstore': u'device', u'image_shape': u'512'}\u001b[0m\n",
      "\u001b[34mProcess 1 is a worker.\u001b[0m\n",
      "\u001b[34m[11/26/2020 07:31:30 INFO 140004883121984] Using default worker.\u001b[0m\n",
      "\u001b[34m[11/26/2020 07:31:30 INFO 140004883121984] Loaded iterator creator application/x-image for content type ('application/x-image', '1.0')\u001b[0m\n",
      "\u001b[34m[11/26/2020 07:31:30 INFO 140004883121984] Loaded iterator creator application/x-recordio for content type ('application/x-recordio', '1.0')\u001b[0m\n",
      "\u001b[34m[11/26/2020 07:31:30 INFO 140004883121984] Loaded iterator creator image/png for content type ('image/png', '1.0')\u001b[0m\n",
      "\u001b[34m[11/26/2020 07:31:30 INFO 140004883121984] Loaded iterator creator image/jpeg for content type ('image/jpeg', '1.0')\u001b[0m\n",
      "\u001b[34m[11/26/2020 07:31:30 INFO 140004883121984] Checkpoint loading and saving are disabled.\u001b[0m\n",
      "\u001b[34m[11/26/2020 07:31:31 INFO 140004883121984] nvidia-smi took: 0.100771903992 secs to identify 8 gpus\u001b[0m\n",
      "\u001b[34m[11/26/2020 07:31:31 INFO 140004883121984] Number of GPUs being used: 8\u001b[0m\n",
      "\u001b[34m[11/26/2020 07:31:31 WARNING 140004883121984] Training images are resized to image shape (3, 512, 512)\u001b[0m\n",
      "\u001b[34m[07:31:31] /opt/brazil-pkg-cache/packages/AIAlgorithmsMXNet/AIAlgorithmsMXNet-1.4.x_ecl_Cuda_9.x.42.0/AL2012/generic-flavor/src/src/io/iter_image_det_recordio.cc:283: ImageDetRecordIOParser: /opt/ml/input/data/train/birds_ssd_train.rec, use 48 threads for decoding..\u001b[0m\n",
      "\u001b[34m[07:31:31] /opt/brazil-pkg-cache/packages/AIAlgorithmsMXNet/AIAlgorithmsMXNet-1.4.x_ecl_Cuda_9.x.42.0/AL2012/generic-flavor/src/src/io/iter_image_det_recordio.cc:340: ImageDetRecordIOParser: /opt/ml/input/data/train/birds_ssd_train.rec, label padding width: 350\u001b[0m\n",
      "\u001b[34m[11/26/2020 07:31:34 WARNING 140004883121984] Validation images are resized to image shape (3, 512, 512)\u001b[0m\n",
      "\u001b[34m[07:31:34] /opt/brazil-pkg-cache/packages/AIAlgorithmsMXNet/AIAlgorithmsMXNet-1.4.x_ecl_Cuda_9.x.42.0/AL2012/generic-flavor/src/src/io/iter_image_det_recordio.cc:283: ImageDetRecordIOParser: /opt/ml/input/data/validation/birds_ssd_val.rec, use 32 threads for decoding..\u001b[0m\n",
      "\u001b[34m[07:31:34] /opt/brazil-pkg-cache/packages/AIAlgorithmsMXNet/AIAlgorithmsMXNet-1.4.x_ecl_Cuda_9.x.42.0/AL2012/generic-flavor/src/src/io/iter_image_det_recordio.cc:340: ImageDetRecordIOParser: /opt/ml/input/data/validation/birds_ssd_val.rec, label padding width: 350\u001b[0m\n",
      "\u001b[34m[11/26/2020 07:31:38 INFO 140004883121984] Number of GPUs being used: 8\u001b[0m\n",
      "\u001b[34m[11/26/2020 07:31:38 INFO 140004883121984] Using [gpu(0),gpu(1),gpu(2),gpu(3),gpu(4),gpu(5),gpu(6),gpu(7)] as training context.\u001b[0m\n",
      "\u001b[34m[11/26/2020 07:31:38 INFO 140004883121984] Number of GPUs being used: 8\u001b[0m\n",
      "\u001b[34m[11/26/2020 07:31:38 INFO 140004883121984] Create Store: device\u001b[0m\n",
      "\u001b[34m[11/26/2020 07:31:38 INFO 140004883121984] Using (gpu(0),gpu(1),gpu(2),gpu(3),gpu(4),gpu(5),gpu(6),gpu(7)) as training context.\u001b[0m\n",
      "\u001b[34m[11/26/2020 07:31:38 INFO 140004883121984] Start training from pretrained model 1.\u001b[0m\n",
      "\u001b[34m[07:31:38] /opt/brazil-pkg-cache/packages/AIAlgorithmsMXNet/AIAlgorithmsMXNet-1.4.x_ecl_Cuda_9.x.42.0/AL2012/generic-flavor/src/src/nnvm/legacy_json_util.cc:209: Loading symbol saved by previous version v0.8.0. Attempting to upgrade...\u001b[0m\n",
      "\u001b[34m[07:31:38] /opt/brazil-pkg-cache/packages/AIAlgorithmsMXNet/AIAlgorithmsMXNet-1.4.x_ecl_Cuda_9.x.42.0/AL2012/generic-flavor/src/src/nnvm/legacy_json_util.cc:217: Symbol successfully upgraded!\u001b[0m\n",
      "\u001b[34m[11/26/2020 07:31:39 INFO 140004883121984] Loaded pretrained model parameters.\u001b[0m\n",
      "\u001b[34m[11/26/2020 07:32:09 INFO 140004883121984] Creating a new state instance.\u001b[0m\n",
      "\u001b[34m#metrics {\"Metrics\": {\"Max Batches Seen Between Resets\": {\"count\": 1, \"max\": 0, \"sum\": 0.0, \"min\": 0}, \"Number of Batches Since Last Reset\": {\"count\": 1, \"max\": 0, \"sum\": 0.0, \"min\": 0}, \"Number of Records Since Last Reset\": {\"count\": 1, \"max\": 0, \"sum\": 0.0, \"min\": 0}, \"Total Batches Seen\": {\"count\": 1, \"max\": 0, \"sum\": 0.0, \"min\": 0}, \"Total Records Seen\": {\"count\": 1, \"max\": 0, \"sum\": 0.0, \"min\": 0}, \"Max Records Seen Between Resets\": {\"count\": 1, \"max\": 0, \"sum\": 0.0, \"min\": 0}, \"Reset Count\": {\"count\": 1, \"max\": 0, \"sum\": 0.0, \"min\": 0}}, \"EndTime\": 1606375929.996899, \"Dimensions\": {\"Host\": \"algo-1\", \"Meta\": \"init_train_data_iter\", \"Operation\": \"training\", \"Algorithm\": \"AWS/Object Detection\"}, \"StartTime\": 1606375929.996838}\n",
      "\u001b[0m\n",
      "\u001b[34m[07:32:10] /opt/brazil-pkg-cache/packages/AIAlgorithmsMXNet/AIAlgorithmsMXNet-1.4.x_ecl_Cuda_9.x.42.0/AL2012/generic-flavor/src/src/operator/nn/./cudnn/./cudnn_algoreg-inl.h:97: Running performance tests to find the best convolution algorithm, this can take a while... (setting env variable MXNET_CUDNN_AUTOTUNE_DEFAULT to 0 to disable)\u001b[0m\n",
      "\u001b[34m[07:32:11] /opt/brazil-pkg-cache/packages/AIAlgorithmsMXNet/AIAlgorithmsMXNet-1.4.x_ecl_Cuda_9.x.42.0/AL2012/generic-flavor/src/src/kvstore/././comm.h:744: only 32 out of 56 GPU pairs are enabled direct access. It may affect the performance. You can set MXNET_ENABLE_GPU_P2P=0 to turn it off\u001b[0m\n",
      "\u001b[34m[07:32:11] /opt/brazil-pkg-cache/packages/AIAlgorithmsMXNet/AIAlgorithmsMXNet-1.4.x_ecl_Cuda_9.x.42.0/AL2012/generic-flavor/src/src/kvstore/././comm.h:753: .vvvv...\u001b[0m\n",
      "\u001b[34m[07:32:11] /opt/brazil-pkg-cache/packages/AIAlgorithmsMXNet/AIAlgorithmsMXNet-1.4.x_ecl_Cuda_9.x.42.0/AL2012/generic-flavor/src/src/kvstore/././comm.h:753: v.vv.v..\u001b[0m\n",
      "\u001b[34m[07:32:11] /opt/brazil-pkg-cache/packages/AIAlgorithmsMXNet/AIAlgorithmsMXNet-1.4.x_ecl_Cuda_9.x.42.0/AL2012/generic-flavor/src/src/kvstore/././comm.h:753: vv.v..v.\u001b[0m\n",
      "\u001b[34m[07:32:11] /opt/brazil-pkg-cache/packages/AIAlgorithmsMXNet/AIAlgorithmsMXNet-1.4.x_ecl_Cuda_9.x.42.0/AL2012/generic-flavor/src/src/kvstore/././comm.h:753: vvv....v\u001b[0m\n",
      "\u001b[34m[07:32:11] /opt/brazil-pkg-cache/packages/AIAlgorithmsMXNet/AIAlgorithmsMXNet-1.4.x_ecl_Cuda_9.x.42.0/AL2012/generic-flavor/src/src/kvstore/././comm.h:753: v....vvv\u001b[0m\n",
      "\u001b[34m[07:32:11] /opt/brazil-pkg-cache/packages/AIAlgorithmsMXNet/AIAlgorithmsMXNet-1.4.x_ecl_Cuda_9.x.42.0/AL2012/generic-flavor/src/src/kvstore/././comm.h:753: .v..v.vv\u001b[0m\n",
      "\u001b[34m[07:32:11] /opt/brazil-pkg-cache/packages/AIAlgorithmsMXNet/AIAlgorithmsMXNet-1.4.x_ecl_Cuda_9.x.42.0/AL2012/generic-flavor/src/src/kvstore/././comm.h:753: ..v.vv.v\u001b[0m\n",
      "\u001b[34m[07:32:11] /opt/brazil-pkg-cache/packages/AIAlgorithmsMXNet/AIAlgorithmsMXNet-1.4.x_ecl_Cuda_9.x.42.0/AL2012/generic-flavor/src/src/kvstore/././comm.h:753: ...vvvv.\u001b[0m\n",
      "\u001b[34m[11/26/2020 07:32:36 INFO 140004883121984] Epoch:    0, batches:    100, num_examples:   1600, 60.3 samples/sec, epoch time so far:  0:00:26.534011\u001b[0m\n",
      "\u001b[34m[11/26/2020 07:32:59 INFO 140004883121984] Epoch:    0, batches:    200, num_examples:   3200, 65.0 samples/sec, epoch time so far:  0:00:49.211282\u001b[0m\n",
      "\u001b[34m[11/26/2020 07:33:21 INFO 140004883121984] Epoch:    0, batches:    300, num_examples:   4800, 67.2 samples/sec, epoch time so far:  0:01:11.409783\u001b[0m\n",
      "\u001b[34m[11/26/2020 07:33:42 INFO 140004883121984] Epoch:    0, batches:    400, num_examples:   6400, 68.9 samples/sec, epoch time so far:  0:01:32.935740\u001b[0m\n",
      "\u001b[34m[11/26/2020 07:34:06 INFO 140004883121984] Epoch:    0, batches:    500, num_examples:   8000, 68.8 samples/sec, epoch time so far:  0:01:56.250862\u001b[0m\n",
      "\u001b[34m[11/26/2020 07:34:25 INFO 140004883121984] #quality_metric: host=algo-1, epoch=0, batch=590 train cross_entropy <loss>=(0.6441554851949781)\u001b[0m\n",
      "\u001b[34m[11/26/2020 07:34:25 INFO 140004883121984] #quality_metric: host=algo-1, epoch=0, batch=590 train smooth_l1 <loss>=(0.5968847591883484)\u001b[0m\n",
      "\u001b[34m[11/26/2020 07:34:25 INFO 140004883121984] Round of batches complete\u001b[0m\n",
      "\u001b[34m[11/26/2020 07:34:26 INFO 140004883121984] Updated the metrics\u001b[0m\n",
      "\u001b[34m[11/26/2020 07:34:47 INFO 140004883121984] #quality_metric: host=algo-1, epoch=0, validation mAP <score>=(0.3892038647538077)\u001b[0m\n",
      "\u001b[34m[11/26/2020 07:34:47 INFO 140004883121984] Updating the best model with validation-mAP=0.3892038647538077\u001b[0m\n",
      "\u001b[34m[11/26/2020 07:34:47 INFO 140004883121984] Saved checkpoint to \"/opt/ml/model/model_algo_1-0000.params\"\u001b[0m\n",
      "\u001b[34m[11/26/2020 07:34:47 INFO 140004883121984] #progress_metric: host=algo-1, completed 10 % of epochs\u001b[0m\n",
      "\u001b[34m#metrics {\"Metrics\": {\"Max Batches Seen Between Resets\": {\"count\": 1, \"max\": 0, \"sum\": 0.0, \"min\": 0}, \"Number of Batches Since Last Reset\": {\"count\": 1, \"max\": 0, \"sum\": 0.0, \"min\": 0}, \"Number of Records Since Last Reset\": {\"count\": 1, \"max\": 0, \"sum\": 0.0, \"min\": 0}, \"Total Batches Seen\": {\"count\": 1, \"max\": 0, \"sum\": 0.0, \"min\": 0}, \"Total Records Seen\": {\"count\": 1, \"max\": 0, \"sum\": 0.0, \"min\": 0}, \"Max Records Seen Between Resets\": {\"count\": 1, \"max\": 0, \"sum\": 0.0, \"min\": 0}, \"Reset Count\": {\"count\": 1, \"max\": 1, \"sum\": 1.0, \"min\": 1}}, \"EndTime\": 1606376087.669404, \"Dimensions\": {\"Host\": \"algo-1\", \"Meta\": \"training_data_iter\", \"Operation\": \"training\", \"Algorithm\": \"AWS/Object Detection\", \"epoch\": 0}, \"StartTime\": 1606375929.997152}\n",
      "\u001b[0m\n",
      "\u001b[34m[11/26/2020 07:35:09 INFO 140004883121984] Epoch:    1, batches:    100, num_examples:   1600, 72.5 samples/sec, epoch time so far:  0:00:22.056000\u001b[0m\n"
     ]
    },
    {
     "name": "stdout",
     "output_type": "stream",
     "text": [
      "\u001b[34m[11/26/2020 07:35:31 INFO 140004883121984] Epoch:    1, batches:    200, num_examples:   3200, 72.5 samples/sec, epoch time so far:  0:00:44.156634\u001b[0m\n",
      "\u001b[34m[11/26/2020 07:35:54 INFO 140004883121984] Epoch:    1, batches:    300, num_examples:   4800, 72.0 samples/sec, epoch time so far:  0:01:06.649642\u001b[0m\n",
      "\u001b[34m[11/26/2020 07:36:17 INFO 140004883121984] Epoch:    1, batches:    400, num_examples:   6400, 71.6 samples/sec, epoch time so far:  0:01:29.382622\u001b[0m\n",
      "\u001b[34m[11/26/2020 07:36:38 INFO 140004883121984] Epoch:    1, batches:    500, num_examples:   8000, 72.0 samples/sec, epoch time so far:  0:01:51.140679\u001b[0m\n",
      "\u001b[34m[11/26/2020 07:36:58 INFO 140004883121984] #quality_metric: host=algo-1, epoch=1, batch=589 train cross_entropy <loss>=(0.5570799104433422)\u001b[0m\n",
      "\u001b[34m[11/26/2020 07:36:58 INFO 140004883121984] #quality_metric: host=algo-1, epoch=1, batch=589 train smooth_l1 <loss>=(0.4539318011282833)\u001b[0m\n",
      "\u001b[34m[11/26/2020 07:36:58 INFO 140004883121984] Round of batches complete\u001b[0m\n",
      "\u001b[34m[11/26/2020 07:36:58 INFO 140004883121984] Updated the metrics\u001b[0m\n",
      "\u001b[34m[11/26/2020 07:37:22 INFO 140004883121984] #quality_metric: host=algo-1, epoch=1, validation mAP <score>=(0.6244389145438317)\u001b[0m\n",
      "\u001b[34m[11/26/2020 07:37:22 INFO 140004883121984] Updating the best model with validation-mAP=0.6244389145438317\u001b[0m\n",
      "\u001b[34m[11/26/2020 07:37:22 INFO 140004883121984] Saved checkpoint to \"/opt/ml/model/model_algo_1-0000.params\"\u001b[0m\n",
      "\u001b[34m[11/26/2020 07:37:22 INFO 140004883121984] #progress_metric: host=algo-1, completed 20 % of epochs\u001b[0m\n",
      "\u001b[34m#metrics {\"Metrics\": {\"Max Batches Seen Between Resets\": {\"count\": 1, \"max\": 0, \"sum\": 0.0, \"min\": 0}, \"Number of Batches Since Last Reset\": {\"count\": 1, \"max\": 0, \"sum\": 0.0, \"min\": 0}, \"Number of Records Since Last Reset\": {\"count\": 1, \"max\": 0, \"sum\": 0.0, \"min\": 0}, \"Total Batches Seen\": {\"count\": 1, \"max\": 0, \"sum\": 0.0, \"min\": 0}, \"Total Records Seen\": {\"count\": 1, \"max\": 0, \"sum\": 0.0, \"min\": 0}, \"Max Records Seen Between Resets\": {\"count\": 1, \"max\": 0, \"sum\": 0.0, \"min\": 0}, \"Reset Count\": {\"count\": 1, \"max\": 2, \"sum\": 2.0, \"min\": 2}}, \"EndTime\": 1606376242.804887, \"Dimensions\": {\"Host\": \"algo-1\", \"Meta\": \"training_data_iter\", \"Operation\": \"training\", \"Algorithm\": \"AWS/Object Detection\", \"epoch\": 1}, \"StartTime\": 1606376087.669569}\n",
      "\u001b[0m\n",
      "\u001b[34m[11/26/2020 07:37:44 INFO 140004883121984] Epoch:    2, batches:    100, num_examples:   1600, 73.0 samples/sec, epoch time so far:  0:00:21.931177\u001b[0m\n",
      "\u001b[34m[11/26/2020 07:38:07 INFO 140004883121984] Epoch:    2, batches:    200, num_examples:   3200, 72.1 samples/sec, epoch time so far:  0:00:44.386667\u001b[0m\n",
      "\u001b[34m[11/26/2020 07:38:29 INFO 140004883121984] Epoch:    2, batches:    300, num_examples:   4800, 72.1 samples/sec, epoch time so far:  0:01:06.571656\u001b[0m\n",
      "\u001b[34m[11/26/2020 07:38:51 INFO 140004883121984] Epoch:    2, batches:    400, num_examples:   6400, 72.2 samples/sec, epoch time so far:  0:01:28.688595\u001b[0m\n",
      "\u001b[34m[11/26/2020 07:39:13 INFO 140004883121984] Epoch:    2, batches:    500, num_examples:   8000, 72.0 samples/sec, epoch time so far:  0:01:51.157187\u001b[0m\n",
      "\u001b[34m[11/26/2020 07:39:33 INFO 140004883121984] #quality_metric: host=algo-1, epoch=2, batch=590 train cross_entropy <loss>=(0.523000019807809)\u001b[0m\n",
      "\u001b[34m[11/26/2020 07:39:33 INFO 140004883121984] #quality_metric: host=algo-1, epoch=2, batch=590 train smooth_l1 <loss>=(0.36008304012641995)\u001b[0m\n",
      "\u001b[34m[11/26/2020 07:39:33 INFO 140004883121984] Round of batches complete\u001b[0m\n",
      "\u001b[34m[11/26/2020 07:39:34 INFO 140004883121984] Updated the metrics\u001b[0m\n",
      "\u001b[34m[11/26/2020 07:39:59 INFO 140004883121984] #quality_metric: host=algo-1, epoch=2, validation mAP <score>=(0.8490693877565119)\u001b[0m\n",
      "\u001b[34m[11/26/2020 07:39:59 INFO 140004883121984] Updating the best model with validation-mAP=0.8490693877565119\u001b[0m\n",
      "\u001b[34m[11/26/2020 07:39:59 INFO 140004883121984] Saved checkpoint to \"/opt/ml/model/model_algo_1-0000.params\"\u001b[0m\n",
      "\u001b[34m[11/26/2020 07:39:59 INFO 140004883121984] #progress_metric: host=algo-1, completed 30 % of epochs\u001b[0m\n",
      "\u001b[34m#metrics {\"Metrics\": {\"Max Batches Seen Between Resets\": {\"count\": 1, \"max\": 0, \"sum\": 0.0, \"min\": 0}, \"Number of Batches Since Last Reset\": {\"count\": 1, \"max\": 0, \"sum\": 0.0, \"min\": 0}, \"Number of Records Since Last Reset\": {\"count\": 1, \"max\": 0, \"sum\": 0.0, \"min\": 0}, \"Total Batches Seen\": {\"count\": 1, \"max\": 0, \"sum\": 0.0, \"min\": 0}, \"Total Records Seen\": {\"count\": 1, \"max\": 0, \"sum\": 0.0, \"min\": 0}, \"Max Records Seen Between Resets\": {\"count\": 1, \"max\": 0, \"sum\": 0.0, \"min\": 0}, \"Reset Count\": {\"count\": 1, \"max\": 3, \"sum\": 3.0, \"min\": 3}}, \"EndTime\": 1606376399.772983, \"Dimensions\": {\"Host\": \"algo-1\", \"Meta\": \"training_data_iter\", \"Operation\": \"training\", \"Algorithm\": \"AWS/Object Detection\", \"epoch\": 2}, \"StartTime\": 1606376242.805038}\n",
      "\u001b[0m\n",
      "\u001b[34m[11/26/2020 07:40:22 INFO 140004883121984] Epoch:    3, batches:    100, num_examples:   1600, 71.3 samples/sec, epoch time so far:  0:00:22.455843\u001b[0m\n",
      "\u001b[34m[11/26/2020 07:40:45 INFO 140004883121984] Epoch:    3, batches:    200, num_examples:   3200, 70.2 samples/sec, epoch time so far:  0:00:45.557702\u001b[0m\n",
      "\u001b[34m[11/26/2020 07:41:07 INFO 140004883121984] Epoch:    3, batches:    300, num_examples:   4800, 71.1 samples/sec, epoch time so far:  0:01:07.518576\u001b[0m\n",
      "\u001b[34m[11/26/2020 07:41:29 INFO 140004883121984] Epoch:    3, batches:    400, num_examples:   6400, 71.1 samples/sec, epoch time so far:  0:01:29.957370\u001b[0m\n",
      "\u001b[34m[11/26/2020 07:41:51 INFO 140004883121984] Epoch:    3, batches:    500, num_examples:   8000, 71.3 samples/sec, epoch time so far:  0:01:52.211026\u001b[0m\n",
      "\u001b[34m[11/26/2020 07:42:11 INFO 140004883121984] #quality_metric: host=algo-1, epoch=3, batch=589 train cross_entropy <loss>=(0.4888804433681551)\u001b[0m\n",
      "\u001b[34m[11/26/2020 07:42:11 INFO 140004883121984] #quality_metric: host=algo-1, epoch=3, batch=589 train smooth_l1 <loss>=(0.30288459090323205)\u001b[0m\n",
      "\u001b[34m[11/26/2020 07:42:11 INFO 140004883121984] Round of batches complete\u001b[0m\n",
      "\u001b[34m[11/26/2020 07:42:11 INFO 140004883121984] Updated the metrics\u001b[0m\n",
      "\u001b[34m[11/26/2020 07:42:37 INFO 140004883121984] #quality_metric: host=algo-1, epoch=3, validation mAP <score>=(0.9352541534060551)\u001b[0m\n",
      "\u001b[34m[11/26/2020 07:42:37 INFO 140004883121984] Updating the best model with validation-mAP=0.9352541534060551\u001b[0m\n",
      "\u001b[34m[11/26/2020 07:42:37 INFO 140004883121984] Saved checkpoint to \"/opt/ml/model/model_algo_1-0000.params\"\u001b[0m\n",
      "\u001b[34m[11/26/2020 07:42:37 INFO 140004883121984] #progress_metric: host=algo-1, completed 40 % of epochs\u001b[0m\n",
      "\u001b[34m#metrics {\"Metrics\": {\"Max Batches Seen Between Resets\": {\"count\": 1, \"max\": 0, \"sum\": 0.0, \"min\": 0}, \"Number of Batches Since Last Reset\": {\"count\": 1, \"max\": 0, \"sum\": 0.0, \"min\": 0}, \"Number of Records Since Last Reset\": {\"count\": 1, \"max\": 0, \"sum\": 0.0, \"min\": 0}, \"Total Batches Seen\": {\"count\": 1, \"max\": 0, \"sum\": 0.0, \"min\": 0}, \"Total Records Seen\": {\"count\": 1, \"max\": 0, \"sum\": 0.0, \"min\": 0}, \"Max Records Seen Between Resets\": {\"count\": 1, \"max\": 0, \"sum\": 0.0, \"min\": 0}, \"Reset Count\": {\"count\": 1, \"max\": 4, \"sum\": 4.0, \"min\": 4}}, \"EndTime\": 1606376557.45096, \"Dimensions\": {\"Host\": \"algo-1\", \"Meta\": \"training_data_iter\", \"Operation\": \"training\", \"Algorithm\": \"AWS/Object Detection\", \"epoch\": 3}, \"StartTime\": 1606376399.773186}\n",
      "\u001b[0m\n",
      "\u001b[34m[11/26/2020 07:42:59 INFO 140004883121984] Epoch:    4, batches:    100, num_examples:   1600, 72.3 samples/sec, epoch time so far:  0:00:22.118345\u001b[0m\n",
      "\u001b[34m[11/26/2020 07:43:21 INFO 140004883121984] Epoch:    4, batches:    200, num_examples:   3200, 72.2 samples/sec, epoch time so far:  0:00:44.347288\u001b[0m\n",
      "\u001b[34m[11/26/2020 07:43:44 INFO 140004883121984] Epoch:    4, batches:    300, num_examples:   4800, 71.7 samples/sec, epoch time so far:  0:01:06.966817\u001b[0m\n",
      "\u001b[34m[11/26/2020 07:44:06 INFO 140004883121984] Epoch:    4, batches:    400, num_examples:   6400, 71.9 samples/sec, epoch time so far:  0:01:29.001958\u001b[0m\n",
      "\u001b[34m[11/26/2020 07:44:28 INFO 140004883121984] Epoch:    4, batches:    500, num_examples:   8000, 72.0 samples/sec, epoch time so far:  0:01:51.160189\u001b[0m\n",
      "\u001b[34m[11/26/2020 07:44:48 INFO 140004883121984] #quality_metric: host=algo-1, epoch=4, batch=589 train cross_entropy <loss>=(0.45623736132832715)\u001b[0m\n",
      "\u001b[34m[11/26/2020 07:44:48 INFO 140004883121984] #quality_metric: host=algo-1, epoch=4, batch=589 train smooth_l1 <loss>=(0.25984780167387506)\u001b[0m\n",
      "\u001b[34m[11/26/2020 07:44:48 INFO 140004883121984] Round of batches complete\u001b[0m\n",
      "\u001b[34m[11/26/2020 07:44:48 INFO 140004883121984] Updated the metrics\u001b[0m\n"
     ]
    },
    {
     "name": "stdout",
     "output_type": "stream",
     "text": [
      "\u001b[34m[11/26/2020 07:45:13 INFO 140004883121984] #quality_metric: host=algo-1, epoch=4, validation mAP <score>=(0.9356644968313633)\u001b[0m\n",
      "\u001b[34m[11/26/2020 07:45:13 INFO 140004883121984] Updating the best model with validation-mAP=0.9356644968313633\u001b[0m\n",
      "\u001b[34m[11/26/2020 07:45:13 INFO 140004883121984] Saved checkpoint to \"/opt/ml/model/model_algo_1-0000.params\"\u001b[0m\n",
      "\u001b[34m[11/26/2020 07:45:13 INFO 140004883121984] #progress_metric: host=algo-1, completed 50 % of epochs\u001b[0m\n",
      "\u001b[34m#metrics {\"Metrics\": {\"Max Batches Seen Between Resets\": {\"count\": 1, \"max\": 0, \"sum\": 0.0, \"min\": 0}, \"Number of Batches Since Last Reset\": {\"count\": 1, \"max\": 0, \"sum\": 0.0, \"min\": 0}, \"Number of Records Since Last Reset\": {\"count\": 1, \"max\": 0, \"sum\": 0.0, \"min\": 0}, \"Total Batches Seen\": {\"count\": 1, \"max\": 0, \"sum\": 0.0, \"min\": 0}, \"Total Records Seen\": {\"count\": 1, \"max\": 0, \"sum\": 0.0, \"min\": 0}, \"Max Records Seen Between Resets\": {\"count\": 1, \"max\": 0, \"sum\": 0.0, \"min\": 0}, \"Reset Count\": {\"count\": 1, \"max\": 5, \"sum\": 5.0, \"min\": 5}}, \"EndTime\": 1606376713.81965, \"Dimensions\": {\"Host\": \"algo-1\", \"Meta\": \"training_data_iter\", \"Operation\": \"training\", \"Algorithm\": \"AWS/Object Detection\", \"epoch\": 4}, \"StartTime\": 1606376557.45117}\n",
      "\u001b[0m\n",
      "\u001b[34m[11/26/2020 07:45:36 INFO 140004883121984] Epoch:    5, batches:    100, num_examples:   1600, 70.2 samples/sec, epoch time so far:  0:00:22.793185\u001b[0m\n",
      "\u001b[34m[11/26/2020 07:45:58 INFO 140004883121984] Epoch:    5, batches:    200, num_examples:   3200, 71.1 samples/sec, epoch time so far:  0:00:45.003180\u001b[0m\n",
      "\u001b[34m[11/26/2020 07:46:21 INFO 140004883121984] Epoch:    5, batches:    300, num_examples:   4800, 71.1 samples/sec, epoch time so far:  0:01:07.492837\u001b[0m\n",
      "\u001b[34m[11/26/2020 07:46:44 INFO 140004883121984] Epoch:    5, batches:    400, num_examples:   6400, 70.8 samples/sec, epoch time so far:  0:01:30.366162\u001b[0m\n",
      "\u001b[34m[11/26/2020 07:47:06 INFO 140004883121984] Epoch:    5, batches:    500, num_examples:   8000, 71.1 samples/sec, epoch time so far:  0:01:52.560878\u001b[0m\n",
      "\u001b[34m[11/26/2020 07:47:26 INFO 140004883121984] #quality_metric: host=algo-1, epoch=5, batch=590 train cross_entropy <loss>=(0.42184248318147116)\u001b[0m\n",
      "\u001b[34m[11/26/2020 07:47:26 INFO 140004883121984] #quality_metric: host=algo-1, epoch=5, batch=590 train smooth_l1 <loss>=(0.22768806695657634)\u001b[0m\n",
      "\u001b[34m[11/26/2020 07:47:26 INFO 140004883121984] Round of batches complete\u001b[0m\n",
      "\u001b[34m[11/26/2020 07:47:26 INFO 140004883121984] Updated the metrics\u001b[0m\n",
      "\u001b[34m[11/26/2020 07:47:52 INFO 140004883121984] #quality_metric: host=algo-1, epoch=5, validation mAP <score>=(0.962914982391031)\u001b[0m\n",
      "\u001b[34m[11/26/2020 07:47:52 INFO 140004883121984] Updating the best model with validation-mAP=0.962914982391031\u001b[0m\n",
      "\u001b[34m[11/26/2020 07:47:52 INFO 140004883121984] Saved checkpoint to \"/opt/ml/model/model_algo_1-0000.params\"\u001b[0m\n",
      "\u001b[34m[11/26/2020 07:47:52 INFO 140004883121984] #progress_metric: host=algo-1, completed 60 % of epochs\u001b[0m\n",
      "\u001b[34m#metrics {\"Metrics\": {\"Max Batches Seen Between Resets\": {\"count\": 1, \"max\": 0, \"sum\": 0.0, \"min\": 0}, \"Number of Batches Since Last Reset\": {\"count\": 1, \"max\": 0, \"sum\": 0.0, \"min\": 0}, \"Number of Records Since Last Reset\": {\"count\": 1, \"max\": 0, \"sum\": 0.0, \"min\": 0}, \"Total Batches Seen\": {\"count\": 1, \"max\": 0, \"sum\": 0.0, \"min\": 0}, \"Total Records Seen\": {\"count\": 1, \"max\": 0, \"sum\": 0.0, \"min\": 0}, \"Max Records Seen Between Resets\": {\"count\": 1, \"max\": 0, \"sum\": 0.0, \"min\": 0}, \"Reset Count\": {\"count\": 1, \"max\": 6, \"sum\": 6.0, \"min\": 6}}, \"EndTime\": 1606376872.540739, \"Dimensions\": {\"Host\": \"algo-1\", \"Meta\": \"training_data_iter\", \"Operation\": \"training\", \"Algorithm\": \"AWS/Object Detection\", \"epoch\": 5}, \"StartTime\": 1606376713.819823}\n",
      "\u001b[0m\n",
      "\u001b[34m[11/26/2020 07:48:14 INFO 140004883121984] Epoch:    6, batches:    100, num_examples:   1600, 71.9 samples/sec, epoch time so far:  0:00:22.264262\u001b[0m\n",
      "\u001b[34m[11/26/2020 07:48:37 INFO 140004883121984] Epoch:    6, batches:    200, num_examples:   3200, 71.9 samples/sec, epoch time so far:  0:00:44.509931\u001b[0m\n",
      "\u001b[34m[11/26/2020 07:48:59 INFO 140004883121984] Epoch:    6, batches:    300, num_examples:   4800, 71.5 samples/sec, epoch time so far:  0:01:07.101473\u001b[0m\n",
      "\u001b[34m[11/26/2020 07:49:21 INFO 140004883121984] Epoch:    6, batches:    400, num_examples:   6400, 71.8 samples/sec, epoch time so far:  0:01:29.188106\u001b[0m\n",
      "\u001b[34m[11/26/2020 07:49:44 INFO 140004883121984] Epoch:    6, batches:    500, num_examples:   8000, 71.7 samples/sec, epoch time so far:  0:01:51.639572\u001b[0m\n",
      "\u001b[34m[11/26/2020 07:50:03 INFO 140004883121984] #quality_metric: host=algo-1, epoch=6, batch=589 train cross_entropy <loss>=(0.39526467408285954)\u001b[0m\n",
      "\u001b[34m[11/26/2020 07:50:03 INFO 140004883121984] #quality_metric: host=algo-1, epoch=6, batch=589 train smooth_l1 <loss>=(0.2015706415760998)\u001b[0m\n",
      "\u001b[34m[11/26/2020 07:50:03 INFO 140004883121984] Round of batches complete\u001b[0m\n",
      "\u001b[34m[11/26/2020 07:50:04 INFO 140004883121984] Updated the metrics\u001b[0m\n",
      "\u001b[34m[11/26/2020 07:50:27 INFO 140004883121984] #quality_metric: host=algo-1, epoch=6, validation mAP <score>=(0.9734963651406314)\u001b[0m\n",
      "\u001b[34m[11/26/2020 07:50:27 INFO 140004883121984] Updating the best model with validation-mAP=0.9734963651406314\u001b[0m\n",
      "\u001b[34m[11/26/2020 07:50:27 INFO 140004883121984] Saved checkpoint to \"/opt/ml/model/model_algo_1-0000.params\"\u001b[0m\n",
      "\u001b[34m[11/26/2020 07:50:27 INFO 140004883121984] #progress_metric: host=algo-1, completed 70 % of epochs\u001b[0m\n",
      "\u001b[34m#metrics {\"Metrics\": {\"Max Batches Seen Between Resets\": {\"count\": 1, \"max\": 0, \"sum\": 0.0, \"min\": 0}, \"Number of Batches Since Last Reset\": {\"count\": 1, \"max\": 0, \"sum\": 0.0, \"min\": 0}, \"Number of Records Since Last Reset\": {\"count\": 1, \"max\": 0, \"sum\": 0.0, \"min\": 0}, \"Total Batches Seen\": {\"count\": 1, \"max\": 0, \"sum\": 0.0, \"min\": 0}, \"Total Records Seen\": {\"count\": 1, \"max\": 0, \"sum\": 0.0, \"min\": 0}, \"Max Records Seen Between Resets\": {\"count\": 1, \"max\": 0, \"sum\": 0.0, \"min\": 0}, \"Reset Count\": {\"count\": 1, \"max\": 7, \"sum\": 7.0, \"min\": 7}}, \"EndTime\": 1606377027.365131, \"Dimensions\": {\"Host\": \"algo-1\", \"Meta\": \"training_data_iter\", \"Operation\": \"training\", \"Algorithm\": \"AWS/Object Detection\", \"epoch\": 6}, \"StartTime\": 1606376872.540943}\n",
      "\u001b[0m\n",
      "\u001b[34m[11/26/2020 07:50:49 INFO 140004883121984] Epoch:    7, batches:    100, num_examples:   1600, 70.8 samples/sec, epoch time so far:  0:00:22.594410\u001b[0m\n",
      "\u001b[34m[11/26/2020 07:51:12 INFO 140004883121984] Epoch:    7, batches:    200, num_examples:   3200, 71.2 samples/sec, epoch time so far:  0:00:44.942574\u001b[0m\n",
      "\u001b[34m[11/26/2020 07:51:34 INFO 140004883121984] Epoch:    7, batches:    300, num_examples:   4800, 71.6 samples/sec, epoch time so far:  0:01:07.084864\u001b[0m\n",
      "\u001b[34m[11/26/2020 07:51:56 INFO 140004883121984] Epoch:    7, batches:    400, num_examples:   6400, 71.7 samples/sec, epoch time so far:  0:01:29.322113\u001b[0m\n",
      "\u001b[34m[11/26/2020 07:52:18 INFO 140004883121984] Epoch:    7, batches:    500, num_examples:   8000, 72.0 samples/sec, epoch time so far:  0:01:51.133967\u001b[0m\n",
      "\u001b[34m[11/26/2020 07:52:36 INFO 140004883121984] #quality_metric: host=algo-1, epoch=7, batch=589 train cross_entropy <loss>=(0.370094586601376)\u001b[0m\n",
      "\u001b[34m[11/26/2020 07:52:36 INFO 140004883121984] #quality_metric: host=algo-1, epoch=7, batch=589 train smooth_l1 <loss>=(0.1811344247768825)\u001b[0m\n",
      "\u001b[34m[11/26/2020 07:52:36 INFO 140004883121984] Round of batches complete\u001b[0m\n",
      "\u001b[34m[11/26/2020 07:52:37 INFO 140004883121984] Updated the metrics\u001b[0m\n",
      "\u001b[34m[11/26/2020 07:53:00 INFO 140004883121984] #quality_metric: host=algo-1, epoch=7, validation mAP <score>=(0.9826667101240081)\u001b[0m\n",
      "\u001b[34m[11/26/2020 07:53:00 INFO 140004883121984] Updating the best model with validation-mAP=0.9826667101240081\u001b[0m\n",
      "\u001b[34m[11/26/2020 07:53:00 INFO 140004883121984] Saved checkpoint to \"/opt/ml/model/model_algo_1-0000.params\"\u001b[0m\n",
      "\u001b[34m[11/26/2020 07:53:00 INFO 140004883121984] #progress_metric: host=algo-1, completed 80 % of epochs\u001b[0m\n",
      "\u001b[34m#metrics {\"Metrics\": {\"Max Batches Seen Between Resets\": {\"count\": 1, \"max\": 0, \"sum\": 0.0, \"min\": 0}, \"Number of Batches Since Last Reset\": {\"count\": 1, \"max\": 0, \"sum\": 0.0, \"min\": 0}, \"Number of Records Since Last Reset\": {\"count\": 1, \"max\": 0, \"sum\": 0.0, \"min\": 0}, \"Total Batches Seen\": {\"count\": 1, \"max\": 0, \"sum\": 0.0, \"min\": 0}, \"Total Records Seen\": {\"count\": 1, \"max\": 0, \"sum\": 0.0, \"min\": 0}, \"Max Records Seen Between Resets\": {\"count\": 1, \"max\": 0, \"sum\": 0.0, \"min\": 0}, \"Reset Count\": {\"count\": 1, \"max\": 8, \"sum\": 8.0, \"min\": 8}}, \"EndTime\": 1606377180.979403, \"Dimensions\": {\"Host\": \"algo-1\", \"Meta\": \"training_data_iter\", \"Operation\": \"training\", \"Algorithm\": \"AWS/Object Detection\", \"epoch\": 7}, \"StartTime\": 1606377027.365353}\n",
      "\u001b[0m\n"
     ]
    },
    {
     "name": "stdout",
     "output_type": "stream",
     "text": [
      "\u001b[34m[11/26/2020 07:53:24 INFO 140004883121984] Epoch:    8, batches:    100, num_examples:   1600, 68.1 samples/sec, epoch time so far:  0:00:23.479335\u001b[0m\n",
      "\u001b[34m[11/26/2020 07:53:46 INFO 140004883121984] Epoch:    8, batches:    200, num_examples:   3200, 70.5 samples/sec, epoch time so far:  0:00:45.405800\u001b[0m\n",
      "\u001b[34m[11/26/2020 07:54:09 INFO 140004883121984] Epoch:    8, batches:    300, num_examples:   4800, 70.5 samples/sec, epoch time so far:  0:01:08.125744\u001b[0m\n",
      "\u001b[34m[11/26/2020 07:54:30 INFO 140004883121984] Epoch:    8, batches:    400, num_examples:   6400, 71.5 samples/sec, epoch time so far:  0:01:29.530157\u001b[0m\n",
      "\u001b[34m[11/26/2020 07:54:52 INFO 140004883121984] Epoch:    8, batches:    500, num_examples:   8000, 71.6 samples/sec, epoch time so far:  0:01:51.665903\u001b[0m\n",
      "\u001b[34m[11/26/2020 07:55:12 INFO 140004883121984] #quality_metric: host=algo-1, epoch=8, batch=590 train cross_entropy <loss>=(0.35405305322866487)\u001b[0m\n",
      "\u001b[34m[11/26/2020 07:55:12 INFO 140004883121984] #quality_metric: host=algo-1, epoch=8, batch=590 train smooth_l1 <loss>=(0.1640302491852702)\u001b[0m\n",
      "\u001b[34m[11/26/2020 07:55:12 INFO 140004883121984] Round of batches complete\u001b[0m\n",
      "\u001b[34m[11/26/2020 07:55:12 INFO 140004883121984] Updated the metrics\u001b[0m\n",
      "\u001b[34m[11/26/2020 07:55:35 INFO 140004883121984] #quality_metric: host=algo-1, epoch=8, validation mAP <score>=(0.9878697947165613)\u001b[0m\n",
      "\u001b[34m[11/26/2020 07:55:35 INFO 140004883121984] Updating the best model with validation-mAP=0.9878697947165613\u001b[0m\n",
      "\u001b[34m[11/26/2020 07:55:35 INFO 140004883121984] Saved checkpoint to \"/opt/ml/model/model_algo_1-0000.params\"\u001b[0m\n",
      "\u001b[34m[11/26/2020 07:55:35 INFO 140004883121984] #progress_metric: host=algo-1, completed 90 % of epochs\u001b[0m\n",
      "\u001b[34m#metrics {\"Metrics\": {\"Max Batches Seen Between Resets\": {\"count\": 1, \"max\": 0, \"sum\": 0.0, \"min\": 0}, \"Number of Batches Since Last Reset\": {\"count\": 1, \"max\": 0, \"sum\": 0.0, \"min\": 0}, \"Number of Records Since Last Reset\": {\"count\": 1, \"max\": 0, \"sum\": 0.0, \"min\": 0}, \"Total Batches Seen\": {\"count\": 1, \"max\": 0, \"sum\": 0.0, \"min\": 0}, \"Total Records Seen\": {\"count\": 1, \"max\": 0, \"sum\": 0.0, \"min\": 0}, \"Max Records Seen Between Resets\": {\"count\": 1, \"max\": 0, \"sum\": 0.0, \"min\": 0}, \"Reset Count\": {\"count\": 1, \"max\": 9, \"sum\": 9.0, \"min\": 9}}, \"EndTime\": 1606377335.734673, \"Dimensions\": {\"Host\": \"algo-1\", \"Meta\": \"training_data_iter\", \"Operation\": \"training\", \"Algorithm\": \"AWS/Object Detection\", \"epoch\": 8}, \"StartTime\": 1606377180.979553}\n",
      "\u001b[0m\n",
      "\u001b[34m[11/26/2020 07:55:58 INFO 140004883121984] Epoch:    9, batches:    100, num_examples:   1600, 71.9 samples/sec, epoch time so far:  0:00:22.266466\u001b[0m\n",
      "\u001b[34m[11/26/2020 07:56:20 INFO 140004883121984] Epoch:    9, batches:    200, num_examples:   3200, 72.2 samples/sec, epoch time so far:  0:00:44.310769\u001b[0m\n",
      "\u001b[34m[11/26/2020 07:56:42 INFO 140004883121984] Epoch:    9, batches:    300, num_examples:   4800, 72.3 samples/sec, epoch time so far:  0:01:06.370687\u001b[0m\n",
      "\u001b[34m[11/26/2020 07:57:04 INFO 140004883121984] Epoch:    9, batches:    400, num_examples:   6400, 72.4 samples/sec, epoch time so far:  0:01:28.435488\u001b[0m\n",
      "\u001b[34m[11/26/2020 07:57:25 INFO 140004883121984] Epoch:    9, batches:    500, num_examples:   8000, 72.6 samples/sec, epoch time so far:  0:01:50.119021\u001b[0m\n",
      "\u001b[34m[11/26/2020 07:57:45 INFO 140004883121984] #quality_metric: host=algo-1, epoch=9, batch=589 train cross_entropy <loss>=(0.34207342559627435)\u001b[0m\n",
      "\u001b[34m[11/26/2020 07:57:45 INFO 140004883121984] #quality_metric: host=algo-1, epoch=9, batch=589 train smooth_l1 <loss>=(0.1540209696161614)\u001b[0m\n",
      "\u001b[34m[11/26/2020 07:57:45 INFO 140004883121984] Round of batches complete\u001b[0m\n",
      "\u001b[34m[11/26/2020 07:57:46 INFO 140004883121984] Updated the metrics\u001b[0m\n",
      "\n",
      "2020-11-26 07:58:11 Uploading - Uploading generated training model\u001b[34m[11/26/2020 07:58:03 INFO 140004883121984] #quality_metric: host=algo-1, epoch=9, validation mAP <score>=(0.9865307283468561)\u001b[0m\n",
      "\u001b[34m[11/26/2020 07:58:03 INFO 140004883121984] #progress_metric: host=algo-1, completed 100 % of epochs\u001b[0m\n",
      "\u001b[34m#metrics {\"Metrics\": {\"Max Batches Seen Between Resets\": {\"count\": 1, \"max\": 0, \"sum\": 0.0, \"min\": 0}, \"Number of Batches Since Last Reset\": {\"count\": 1, \"max\": 0, \"sum\": 0.0, \"min\": 0}, \"Number of Records Since Last Reset\": {\"count\": 1, \"max\": 0, \"sum\": 0.0, \"min\": 0}, \"Total Batches Seen\": {\"count\": 1, \"max\": 0, \"sum\": 0.0, \"min\": 0}, \"Total Records Seen\": {\"count\": 1, \"max\": 0, \"sum\": 0.0, \"min\": 0}, \"Max Records Seen Between Resets\": {\"count\": 1, \"max\": 0, \"sum\": 0.0, \"min\": 0}, \"Reset Count\": {\"count\": 1, \"max\": 10, \"sum\": 10.0, \"min\": 10}}, \"EndTime\": 1606377483.640166, \"Dimensions\": {\"Host\": \"algo-1\", \"Meta\": \"training_data_iter\", \"Operation\": \"training\", \"Algorithm\": \"AWS/Object Detection\", \"epoch\": 9}, \"StartTime\": 1606377335.734829}\n",
      "\u001b[0m\n",
      "\u001b[34m[11/26/2020 07:58:03 WARNING 140004883121984] wait_for_all_workers will not sync workers since the kv store is not running distributed\u001b[0m\n",
      "\u001b[34m[11/26/2020 07:58:03 INFO 140004883121984] Saved checkpoint to \"/opt/ml/model/model_algo_1-0000.params\"\u001b[0m\n",
      "\u001b[34m[11/26/2020 07:58:03 INFO 140004883121984] Test data is not provided.\u001b[0m\n",
      "\u001b[34m#metrics {\"Metrics\": {\"epochs\": {\"count\": 1, \"max\": 10, \"sum\": 10.0, \"min\": 10}, \"totaltime\": {\"count\": 1, \"max\": 1593546.6799736023, \"sum\": 1593546.6799736023, \"min\": 1593546.6799736023}, \"setuptime\": {\"count\": 1, \"max\": 9.725093841552734, \"sum\": 9.725093841552734, \"min\": 9.725093841552734}}, \"EndTime\": 1606377484.407976, \"Dimensions\": {\"Host\": \"algo-1\", \"Operation\": \"training\", \"Algorithm\": \"AWS/Object Detection\"}, \"StartTime\": 1606375890.99926}\n",
      "\u001b[0m\n",
      "\n",
      "2020-11-26 07:58:32 Completed - Training job completed\n",
      "Training seconds: 1703\n",
      "Billable seconds: 1703\n",
      "CPU times: user 3.99 s, sys: 154 ms, total: 4.14 s\n",
      "Wall time: 31min 46s\n"
     ]
    }
   ],
   "source": [
    "%%time\n",
    "od_model.fit(inputs=data_channels, logs=True)"
   ]
  },
  {
   "cell_type": "code",
   "execution_count": 10,
   "metadata": {},
   "outputs": [],
   "source": [
    "import boto3\n",
    "import numpy as np\n",
    "import matplotlib.pyplot as plt\n",
    "import matplotlib.ticker as ticker\n",
    "%matplotlib inline\n",
    "\n",
    "client = boto3.client('logs')\n",
    "BASE_LOG_NAME = '/aws/sagemaker/TrainingJobs'\n",
    "\n",
    "def plot_object_detection_log(model, title):\n",
    "    logs = client.describe_log_streams(logGroupName=BASE_LOG_NAME, logStreamNamePrefix=model._current_job_name)\n",
    "    cw_log = client.get_log_events(logGroupName=BASE_LOG_NAME, logStreamName=logs['logStreams'][0]['logStreamName'])\n",
    "\n",
    "    mAP_accs=[]\n",
    "    for e in cw_log['events']:\n",
    "        msg = e['message']\n",
    "        if 'validation mAP <score>=' in msg:\n",
    "            num_start = msg.find('(')\n",
    "            num_end = msg.find(')')\n",
    "            mAP = msg[num_start+1:num_end]\n",
    "            mAP_accs.append(float(mAP))\n",
    "\n",
    "    print(title)\n",
    "    print('Maximum mAP: %f ' % max(mAP_accs))\n",
    "\n",
    "    fig, ax = plt.subplots()\n",
    "    plt.xlabel('Epochs')\n",
    "    plt.ylabel('Mean Avg Precision (mAP)')\n",
    "    val_plot,   = ax.plot(range(len(mAP_accs)),   mAP_accs,   label='mAP')\n",
    "    plt.legend(handles=[val_plot])\n",
    "    ax.yaxis.set_ticks(np.arange(0.0, 1.05, 0.1))\n",
    "    ax.yaxis.set_major_formatter(ticker.FormatStrFormatter('%0.2f'))\n",
    "    plt.show()"
   ]
  },
  {
   "cell_type": "code",
   "execution_count": 11,
   "metadata": {},
   "outputs": [
    {
     "name": "stdout",
     "output_type": "stream",
     "text": [
      "mAP tracking for job: object-detection-2020-11-26-07-27-10-908\n",
      "Maximum mAP: 0.987870 \n"
     ]
    },
    {
     "data": {
      "image/png": "[encoded data removed]",
      "text/plain": [
       "<Figure size 432x288 with 1 Axes>"
      ]
     },
     "metadata": {
      "needs_background": "light"
     },
     "output_type": "display_data"
    }
   ],
   "source": [
    "plot_object_detection_log(od_model, 'mAP tracking for job: ' + od_model._current_job_name)"
   ]
  },
  {
   "cell_type": "markdown",
   "metadata": {},
   "source": [
    "## Step 3: Creating the Model with the training result"
   ]
  },
  {
   "cell_type": "code",
   "execution_count": 12,
   "metadata": {},
   "outputs": [
    {
     "name": "stdout",
     "output_type": "stream",
     "text": [
      "s3://deeplens-sziit/DEMO-ObjectDetection-birds/output/object-detection-2020-11-26-07-27-10-908/output/model.tar.gz\n",
      "arn:aws:sagemaker:us-east-1:966911974471:model/object-detection-2020-11-26-07-27-10-908-mod\n",
      "The Model Name is as: object-detection-2020-11-26-07-27-10-908-mod\n"
     ]
    }
   ],
   "source": [
    "import boto3\n",
    "sm = boto3.client('sagemaker')\n",
    "\n",
    "info = sm.describe_training_job(TrainingJobName=od_model._current_job_name)\n",
    "model_name=od_model._current_job_name+'-mod'\n",
    "model_data = info['ModelArtifacts']['S3ModelArtifacts']\n",
    "print(model_data)\n",
    "\n",
    "primary_container = {\n",
    "    'Image': training_image,\n",
    "    'ModelDataUrl': model_data\n",
    "}\n",
    "\n",
    "create_model_response = sm.create_model(\n",
    "    ModelName = model_name,\n",
    "    ExecutionRoleArn = role,\n",
    "    PrimaryContainer = primary_container)\n",
    "\n",
    "print(create_model_response['ModelArn'])\n",
    "print('The Model Name is as: ' + model_name)"
   ]
  },
  {
   "cell_type": "code",
   "execution_count": null,
   "metadata": {},
   "outputs": [],
   "source": []
  }
 ],
 "metadata": {
  "celltoolbar": "Tags",
  "kernelspec": {
   "display_name": "conda_python3",
   "language": "python",
   "name": "conda_python3"
  },
  "language_info": {
   "codemirror_mode": {
    "name": "ipython",
    "version": 3
   },
   "file_extension": ".py",
   "mimetype": "text/x-python",
   "name": "python",
   "nbconvert_exporter": "python",
   "pygments_lexer": "ipython3",
   "version": "3.6.10"
  }
 },
 "nbformat": 4,
 "nbformat_minor": 2
}
